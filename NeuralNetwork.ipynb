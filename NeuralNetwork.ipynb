{
 "cells": [
  {
   "cell_type": "code",
   "execution_count": null,
   "metadata": {},
   "outputs": [],
   "source": [
    "import numpy\n",
    "import scipy.special"
   ]
  },
  {
   "cell_type": "code",
   "execution_count": null,
   "metadata": {},
   "outputs": [],
   "source": [
    "#Definition der Netzklasse\n",
    "class neuralNetwork:\n",
    "    \n",
    "    #Konstruktor Methode /initialisierung\n",
    "    def __init__(self, inputnodes, hiddennodes, outpunodes, learningrate):\n",
    "        \n",
    "        #Anzahl der Knoten in allen Schichten festlegen\n",
    "        self.inodes = inputnodes\n",
    "        self.hnodes = hiddennodes\n",
    "        self.onodes = outputnodes\n",
    "        \n",
    "        #Lernrate festlegen\n",
    "        self.lr = learningrate\n",
    "        \n",
    "        #Gewichtematrizen erzeugen \n",
    "        #vorherige Schicht in den Spalten\n",
    "        #folgende Schicht in den Zeilen\n",
    "        self.wih = numpy.random.normal(0.0, pow(self.hnodes, 0.5), (self.hnodes, self.inodes))\n",
    "        self.who = numpy.random.normal(0.0, pow(self.onodes, 0.5), (self.onodes, self.hnodes))\n",
    "        \n",
    "        pass\n",
    "    \n",
    "    #Aktivierungsfunktion implementieren\n",
    "    self.activationFunction = lambda x: scipy.special.expit(x)\n",
    "    \n",
    "    \n",
    "    #Trainieren\n",
    "    def train():\n",
    "        pass\n",
    "    \n",
    "    #Ausgabe erzeugen\n",
    "    def query():\n",
    "        \n",
    "        #Sigmoid Funktion auf vermittelte Summe der Signale anwenden\n",
    "        hiddenOutputs = \n",
    "        \n",
    "        \n",
    "        \n",
    "        pass\n",
    "    \n",
    "       \n",
    "    pass"
   ]
  }
 ],
 "metadata": {
  "kernelspec": {
   "display_name": "Python 3",
   "language": "python",
   "name": "python3"
  },
  "language_info": {
   "codemirror_mode": {
    "name": "ipython",
    "version": 3
   },
   "file_extension": ".py",
   "mimetype": "text/x-python",
   "name": "python",
   "nbconvert_exporter": "python",
   "pygments_lexer": "ipython3",
   "version": "3.7.3"
  }
 },
 "nbformat": 4,
 "nbformat_minor": 2
}
