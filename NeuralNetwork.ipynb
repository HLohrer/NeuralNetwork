{
 "cells": [
  {
   "cell_type": "code",
   "execution_count": 2,
   "metadata": {},
   "outputs": [],
   "source": [
    "import numpy\n",
    "import scipy.special"
   ]
  },
  {
   "cell_type": "code",
   "execution_count": 8,
   "metadata": {},
   "outputs": [],
   "source": [
    "#Definition der Netzklasse\n",
    "class neuralNetwork:\n",
    "    \n",
    "    #Konstruktor Methode /initialisierung\n",
    "    def __init__(self, inputnodes, hiddennodes, outputnodes, learningrate):\n",
    "        \n",
    "        #Anzahl der Knoten in allen Schichten festlegen\n",
    "        self.inodes = inputnodes\n",
    "        self.hnodes = hiddennodes\n",
    "        self.onodes = outputnodes\n",
    "        \n",
    "        #Lernrate festlegen\n",
    "        self.lr = learningrate\n",
    "        \n",
    "        #Gewichtematrizen erzeugen \n",
    "        #vorherige Schicht in den Spalten\n",
    "        #folgende Schicht in den Zeilen\n",
    "        self.wih = numpy.random.normal(0.0, pow(self.hnodes, 0.5), (self.hnodes, self.inodes))\n",
    "        self.who = numpy.random.normal(0.0, pow(self.onodes, 0.5), (self.onodes, self.hnodes))\n",
    "        #Aktivierungsfunktion implementieren\n",
    "        self.activationFunction = lambda x: scipy.special.expit(x)\n",
    "        \n",
    "        pass\n",
    "    \n",
    "       \n",
    "    \n",
    "    #Trainieren\n",
    "    def train(self, inputsList, targetsList):\n",
    "        #Listen der Eingangswerte und Sollwerte werden in Arrays umgewandelt\n",
    "        inputs = numpy.array(inputsList, ndmin=2).T\n",
    "        targets = numpy.array(targetsList, ndmin=2).T\n",
    "        \n",
    "        #Summe der vermittelten Signale bilden - Hidden Layer\n",
    "        hiddenInputs = numpy.dot(self.wih, inputs)\n",
    "        \n",
    "        #Sigmoid Funktion auf vermittelte Summe der Signale anwenden - Hidden Layer\n",
    "        hiddenOutputs = self.activationFunction(hiddenInputs)\n",
    "        \n",
    "        #Summe der vermittelten Signale bilden - Output Layer\n",
    "        finalInputs = numpy.dot(self.wih, hiddenOutputs)\n",
    "        \n",
    "        #Sigmoid Funktion auf vermittelte Summe der Signale anwenden - Output Layer\n",
    "        finalOutputs = self.activationFunction(finalInputs)\n",
    "        \n",
    "        #Fehler in der Ausgabeschicht berechnen\n",
    "        outputErrors = targets - finalOutputs\n",
    "        \n",
    "        #Feheler anhand der Gewichte auf den Hidden Layer zurückführen\n",
    "        hiddenErrors = numpy.dot(self.who.T, outputErrors)\n",
    "        \n",
    "        #Gewichte zwischen Hidden und Ausgabeschicht anpassen\n",
    "        self.who = self.lr * numpy.dot((outputErrors * finalOutputs* (1.0-finalOutputs)), numpy.transpose(hiddenOutputs))\n",
    "        \n",
    "        #Gewichte zwischen Eingabe und Hiddenschicht anpassen\n",
    "        self.wih = self.lr * numpy.dot((hiddenErrors * hiddenOutputs* (1.0-hiddenOutputs)), numpy.transpose(inputs))\n",
    "        \n",
    "        pass\n",
    "    \n",
    "    #Ausgabe erzeugen\n",
    "    def query(self, inputsList):\n",
    "        \n",
    "        #Inputs in Array erzeugen - Matrix bilden\n",
    "        inputs = numpy.array(inputsList, ndmin=2).T\n",
    "        \n",
    "        #Summe der vermittelten Signale bilden - Hidden Layer\n",
    "        hiddenInputs = numpy.dot(self.wih, inputs)\n",
    "        \n",
    "        #Sigmoid Funktion auf vermittelte Summe der Signale anwenden - Hidden Layer\n",
    "        hiddenOutputs = self.activationFunction(hiddenInputs)\n",
    "        \n",
    "        #Summe der vermittelten Signale bilden - Output Layer\n",
    "        finalInputs = numpy.dot(self.wih, hiddenOutputs)\n",
    "        \n",
    "        #Sigmoid Funktion auf vermittelte Summe der Signale anwenden - Output Layer\n",
    "        finalOutputs = self.activationFunction(finalInputs)\n",
    "        \n",
    "        return finalOutputs\n",
    "        \n",
    "        pass\n",
    "    \n",
    "       \n",
    "    pass"
   ]
  },
  {
   "cell_type": "code",
   "execution_count": 7,
   "metadata": {},
   "outputs": [
    {
     "data": {
      "text/plain": [
       "array([[0.13349321],\n",
       "       [0.06534095],\n",
       "       [0.67168115]])"
      ]
     },
     "execution_count": 7,
     "metadata": {},
     "output_type": "execute_result"
    }
   ],
   "source": [
    "#Code Test\n",
    "nTest = neuralNetwork (3,3,3,0.3)\n",
    "nTest.query([1.0,0.5,-1.5])"
   ]
  },
  {
   "cell_type": "code",
   "execution_count": null,
   "metadata": {},
   "outputs": [],
   "source": []
  }
 ],
 "metadata": {
  "kernelspec": {
   "display_name": "Python 3",
   "language": "python",
   "name": "python3"
  },
  "language_info": {
   "codemirror_mode": {
    "name": "ipython",
    "version": 3
   },
   "file_extension": ".py",
   "mimetype": "text/x-python",
   "name": "python",
   "nbconvert_exporter": "python",
   "pygments_lexer": "ipython3",
   "version": "3.7.3"
  }
 },
 "nbformat": 4,
 "nbformat_minor": 2
}
